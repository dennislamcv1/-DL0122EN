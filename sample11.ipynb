{
 "cells": [
  {
   "cell_type": "markdown",
   "metadata": {
    "button": false,
    "deletable": true,
    "new_sheet": false,
    "run_control": {
     "read_only": false
    }
   },
   "source": [
    "<a href=\"https://www.bigdatauniversity.com\"><img src=\"https://ibm.box.com/shared/static/qo20b88v1hbjztubt06609ovs85q8fau.png\" width=\"400px\" align=\"center\"></a>\n",
    "\n",
    "<br><br>\n",
    "\n",
    "<h1 align=\"center\"><font size=\"5\">Project: Character Modeling</font></h1>"
   ]
  },
  {
   "cell_type": "markdown",
   "metadata": {
    "button": false,
    "deletable": true,
    "new_sheet": false,
    "run_control": {
     "read_only": false
    }
   },
   "source": [
    "<font size=\"3\"><strong>In this notebook you will use TensorFlow to create a Recurrent Neural Network, to predict the next character in a string. You need to train your network using a CPU and using a GPU and benchmark the result to see which which device You have to write your code in empty cells in this notebook to make it complete, and then submit the notebook for peer-review.</strong></font>\n",
    "\n",
    "<h2>Table of Contents</h2>\n",
    "<ul>\n",
    "    <li><a href=\"#intro\">Introduction</a></li>\n",
    "    <li><a href=\"#lstm\">Long Short-Term Memory Model (LSTM) Architectures</a></li>\n",
    "    <li><a href=\"#cpu_vs_gpu\">Train your model using CPU and GPU</a>\n",
    "        <ol>\n",
    "            <li><a href=\"#question_1\">Question 1: Complete the code to run it on CPU</a></li>\n",
    "            <li><a href=\"#question_2\">Question 2: Complete the code to run it on GPU</a></li>\n",
    "            <li><a href=\"#question_3\">Question 3: Compare the results</a></li>\n",
    "        </ol>    \n",
    "    </li>\n",
    "</ul>\n",
    "<p></p>\n",
    "</div>\n",
    "<br>\n",
    "<hr>"
   ]
  },
  {
   "cell_type": "markdown",
   "metadata": {
    "button": false,
    "deletable": true,
    "new_sheet": false,
    "run_control": {
     "read_only": false
    }
   },
   "source": [
    "<a id=\"intro\"></a>\n",
    "<h2>Introduction</h2>"
   ]
  },
  {
   "cell_type": "markdown",
   "metadata": {
    "button": false,
    "deletable": true,
    "new_sheet": false,
    "run_control": {
     "read_only": false
    }
   },
   "source": [
    "<p>This code is supposed to implement a Recurrent Neural Network with LSTM units for training/sampling from character-level language models. In other words, the model takes a text file as input and trains the RNN network that learns to predict the next character in a sequence.</p>  \n",
    "The RNN can then be used to generate text character by character that will look like the original training data. \n",
    "\n",
    "<p>This code is based on this <a href=\"http://karpathy.github.io/2015/05/21/rnn-effectiveness/\">blog</a>, and the code is an step-by-step implementation of the <a href=\"https://github.com/crazydonkey200/tensorflow-char-rnn\">character-level implimentation</a>.</p>\n",
    "\n",
    "<p>I recommend you to complete the \"<a href=\"https://www.edx.org/course/deep-learning-with-tensorflow\">Deep Learning with TensorFlow</a>\" course for this project.</p>"
   ]
  },
  {
   "cell_type": "markdown",
   "metadata": {
    "button": false,
    "deletable": true,
    "new_sheet": false,
    "run_control": {
     "read_only": false
    }
   },
   "source": [
    "First, lets import the required libraries:"
   ]
  },
  {
   "cell_type": "code",
   "execution_count": 46,
   "metadata": {
    "button": false,
    "collapsed": true,
    "deletable": true,
    "new_sheet": false,
    "run_control": {
     "read_only": false
    }
   },
   "outputs": [],
   "source": [
    "import tensorflow as tf\n",
    "import time\n",
    "import codecs\n",
    "import os\n",
    "import collections\n",
    "from six.moves import cPickle\n",
    "import numpy as np\n",
    "config = tf.ConfigProto()\n",
    "config.gpu_options.allow_growth = True\n",
    "config.log_device_placement = True"
   ]
  },
  {
   "cell_type": "markdown",
   "metadata": {
    "button": false,
    "deletable": true,
    "new_sheet": false,
    "run_control": {
     "read_only": false
    }
   },
   "source": [
    "Libraries\n",
    "<ul>\n",
    "    <li><b>os</b>: is an module that allows us to interact with the operating systerm, in particular we will use it to set the path in which we will be storing our input file, tensor file and vocab file</li>\n",
    "    <li><b>time</b>: is a library that allows us to access the clock time of our machine, we will use it to measure the performance of training our model with a CPU, versus training our model with a GPU</li>\n",
    "    <li><b>cPickle</b>: is a library for serializing and deserializing python objects, we will use the <b>dump()</b> method in cPickle to serialize our objects when saving them, and <b>load()</b> method in cPickle to deserialize our objects when loading.</li>\n",
    "    <li><b>codec</b>: is a library that deals with character encoding, we will use the <b>open()</b> method as it is recommended when opening encoded text files.</li>\n",
    "    <li><b>collections</b>: is a library that implements high performance container types, we will use the <b>Counter</b> object to get a collection of frequencies for our characters</li>\n",
    "</ul>"
   ]
  },
  {
   "cell_type": "markdown",
   "metadata": {
    "button": false,
    "deletable": true,
    "new_sheet": false,
    "run_control": {
     "read_only": false
    }
   },
   "source": [
    "<h3>Downloading the input data</h3>\n",
    "Lets download the input file, and take a look at some parts of it:"
   ]
  },
  {
   "cell_type": "code",
   "execution_count": 47,
   "metadata": {
    "button": false,
    "collapsed": false,
    "deletable": true,
    "new_sheet": false,
    "run_control": {
     "read_only": false
    }
   },
   "outputs": [
    {
     "name": "stdout",
     "output_type": "stream",
     "text": [
      "2018-12-12 18:29:14 URL:https://public.boxcloud.com/d/1/b1!hQ38d1Rdj4KhWDNKAn33KRzfnUFfeoaDRZwIe-SbEYfN0QPSCA9cnoD2yMKzU8LIDmuW40NQO7I3upJMRKEGpcbij3r1oJ8sv3u1ziNeaIaGj9Md4cRumVHsMG7SRS4aqZXdZK8MMKREMET0OreTxX32iuTRazzoMyRmGDac2rJDwa8rQ1KfP9zTybC1n1TmVCEmsGpUmk-fCjxWUuzIc5C0F0IymiWKif9H-V2fweh50wk8vfCFp4DOQXfS2BZmf1FqqEM5kZPDAUeCc-iSVgE4n8mjiuI-StbfLkkpwxfs7l3DNKXDouUq2U0KXAKIzo3HNJf6napTY0bN1e13LPv6wUGvXnRadI4uauV4FpwLmQd4HhZsw622FrgMyRVH3c77P_GNoxHXYGg8kMCQmmP2oiuRPcCIgqd11HVbU3ED1RcsA8IioXmTgh88Dp7E6B3-P1onnrtVSJ_Vj5p0hrqp94hcuoiLukf7zYWtEquLCP1ilGm_BMqWPK-rWvNhkgTSBDQlSHQONeTuZ8tJ6giOSNFUdpmeaqJ86AwVDCfsad64t_IDUSisV8f4n4QSFXEP9-CBI7SkxWckg9-ZrCOBFIaaULfhIdCtkYlfAH_5ZOedS1r2QSPSed8ZflkFpHTygkGytSDg8YC4Pc92jlOF8LsjQ1Soq2WOTAR-znFZHkE1GMempRUE-wQU5baeiSePTvxzJGh5CveNe_0imsVMDxtFLzyplkHxvSOUy8HjxquJh1cS8FRDj6k95qSM7iRuXHLQmyrf9BO2Leg6RrSLzPUb33noqs6mRnzCykpmU-GoDx2XBYCT3gGGm5bctsgu5C3_5Nw1WH9ZwybobXQV1E2wFTrwzH8kNJP1sopM47sb6Fos990u3m3KhAh7zBQkJGLlkW-hXPzNOO3zgo5kSuOmduH2-KNAxri27eBqztsKTcydOJe7OraFmdF2f0Rr-Xrw8f5kWgW4tffaDp6lgnMk_i2bbXxzIBaLsCo9ifmr1FI6_-coNa9ro7DcxDg4hefhhLQWmqq0y4rLL90Ro7cSE6jSIX5-eutuv8LI4bdCv9F1FlCKz68gLkUIppvWScSDAQ3SzbLn5LeX-0JtQOCMDpmm6ehSive8ZXZsvNZZv_NsMytvMMligk005GctK2eGzHay4gV3Lua9V35FaClJ3MiwnEw2nGD10yIu5505mKQIS9IwHCF4IhWjIvnk2Lh21X6qnRnbeJNIVIAlDn8h_4LJUmeWbl8CKdJgfKYpXh7U9LPPRhl4K7pGSp3IVZIZmVPJaHouZRzvnVp2ueKHMWN-W7ZGvLVC_ypnr1Hab_jlBEcukiYTbRbrOaBvrTOYbsz3gaKWlR7RcWh-SwRLSRPCldwiinVoRg../download [1115393/1115393] -> \"input.txt\" [1]\n",
      "-------------Sample text---------------\n",
      "First Citizen:\n",
      "Before we proceed any further, hear me speak.\n",
      "\n",
      "All:\n",
      "Speak, speak.\n",
      "\n",
      "First Citizen:\n",
      "You are all resolved rather to die than to famish?\n",
      "\n",
      "All:\n",
      "Resolved. resolved.\n",
      "\n",
      "First Citizen:\n",
      "First, you know Caius Marcius is chief enemy to the people.\n",
      "\n",
      "All:\n",
      "We know't, we know't.\n",
      "\n",
      "First Citizen:\n",
      "Let us kill him, and we'll have corn at our own price.\n",
      "Is't a verdict?\n",
      "\n",
      "All:\n",
      "No more talking on't; let it be done: away, away!\n",
      "\n",
      "Second Citizen:\n",
      "One word, good citizens.\n",
      "\n",
      "First Citizen:\n",
      "We are accounted poor\n",
      "---------------------------------------\n"
     ]
    },
    {
     "data": {
      "text/plain": [
       "True"
      ]
     },
     "execution_count": 47,
     "metadata": {},
     "output_type": "execute_result"
    }
   ],
   "source": [
    "!wget -nv -O input.txt https://ibm.box.com/shared/static/a3f9e9mbpup09toq35ut7ke3l3lf03hg.txt \n",
    "with open('input.txt', 'r') as f:\n",
    "    read_data = f.read()\n",
    "    print(\"-------------Sample text---------------\")\n",
    "    print (read_data[0:500])\n",
    "    print(\"---------------------------------------\")\n",
    "f.closed"
   ]
  },
  {
   "cell_type": "markdown",
   "metadata": {
    "button": false,
    "deletable": true,
    "new_sheet": false,
    "run_control": {
     "read_only": false
    }
   },
   "source": [
    "<h3>Data loader</h3>\n",
    "You need to read the input file and convert each character to numerical values. The following cell is a class that helps to read data from input file."
   ]
  },
  {
   "cell_type": "code",
   "execution_count": 48,
   "metadata": {
    "button": false,
    "collapsed": true,
    "deletable": true,
    "new_sheet": false,
    "run_control": {
     "read_only": false
    }
   },
   "outputs": [],
   "source": [
    "class TextLoader():\n",
    "    def __init__(self, data_dir, batch_size, seq_length, encoding='utf-8'):\n",
    "        self.data_dir = data_dir\n",
    "        self.batch_size = batch_size\n",
    "        self.seq_length = seq_length\n",
    "        self.encoding = encoding\n",
    "\n",
    "        input_file = os.path.join(data_dir, \"input.txt\")\n",
    "        vocab_file = os.path.join(data_dir, \"vocab.pkl\")\n",
    "        tensor_file = os.path.join(data_dir, \"data.npy\")\n",
    "\n",
    "        if not (os.path.exists(vocab_file) and os.path.exists(tensor_file)):\n",
    "            print(\"reading text file\")\n",
    "            self.preprocess(input_file, vocab_file, tensor_file)\n",
    "        else:\n",
    "            print(\"loading preprocessed files\")\n",
    "            self.load_preprocessed(vocab_file, tensor_file)\n",
    "        self.create_batches()\n",
    "        self.reset_batch_pointer()\n",
    "\n",
    "    def preprocess(self, input_file, vocab_file, tensor_file):\n",
    "        with codecs.open(input_file, \"r\", encoding=self.encoding) as f:\n",
    "            data = f.read()\n",
    "        counter = collections.Counter(data)\n",
    "        count_pairs = sorted(counter.items(), key=lambda x: -x[1])\n",
    "        self.chars, _ = zip(*count_pairs)\n",
    "        self.vocab_size = len(self.chars)\n",
    "        self.vocab = dict(zip(self.chars, range(len(self.chars))))\n",
    "        with open(vocab_file, 'wb') as f:\n",
    "            cPickle.dump(self.chars, f)\n",
    "        self.tensor = np.array(list(map(self.vocab.get, data)))\n",
    "        np.save(tensor_file, self.tensor)\n",
    "\n",
    "    def load_preprocessed(self, vocab_file, tensor_file):\n",
    "        with open(vocab_file, 'rb') as f:\n",
    "            self.chars = cPickle.load(f)\n",
    "        self.vocab_size = len(self.chars)\n",
    "        self.vocab = dict(zip(self.chars, range(len(self.chars))))\n",
    "        self.tensor = np.load(tensor_file)\n",
    "        self.num_batches = int(self.tensor.size / (self.batch_size * self.seq_length))\n",
    "\n",
    "    def create_batches(self):\n",
    "        self.num_batches = int(self.tensor.size / (self.batch_size * self.seq_length))\n",
    "\n",
    "        # When the data (tensor) is too small, let's give them a better error message\n",
    "        if self.num_batches==0:\n",
    "            assert False, \"Not enough data. Make seq_length and batch_size small.\"\n",
    "\n",
    "        self.tensor = self.tensor[:self.num_batches * self.batch_size * self.seq_length]\n",
    "        xdata = self.tensor\n",
    "        ydata = np.copy(self.tensor)\n",
    "        ydata[:-1] = xdata[1:]\n",
    "        ydata[-1] = xdata[0]\n",
    "        self.x_batches = np.split(xdata.reshape(self.batch_size, -1), self.num_batches, 1)\n",
    "        self.y_batches = np.split(ydata.reshape(self.batch_size, -1), self.num_batches, 1)\n",
    "\n",
    "\n",
    "    def next_batch(self):\n",
    "        x, y = self.x_batches[self.pointer], self.y_batches[self.pointer]\n",
    "        self.pointer += 1\n",
    "        return x, y\n",
    "\n",
    "    def reset_batch_pointer(self):\n",
    "        self.pointer = 0"
   ]
  },
  {
   "cell_type": "markdown",
   "metadata": {
    "button": false,
    "deletable": true,
    "new_sheet": false,
    "run_control": {
     "read_only": false
    }
   },
   "source": [
    "<h3>Parameters</h3>"
   ]
  },
  {
   "cell_type": "markdown",
   "metadata": {
    "button": false,
    "deletable": true,
    "new_sheet": false,
    "run_control": {
     "read_only": false
    }
   },
   "source": [
    "<p>We have to convert the characters in the string to numbers. Also we need to represent each sequence of characters as a vector in each batch.</p>\n",
    "So, let's set some parameters that we need those now for reading the dataset, and later to build the model."
   ]
  },
  {
   "cell_type": "code",
   "execution_count": 49,
   "metadata": {
    "button": false,
    "collapsed": true,
    "deletable": true,
    "new_sheet": false,
    "run_control": {
     "read_only": false
    }
   },
   "outputs": [],
   "source": [
    "seq_length = 50 # RNN sequence length\n",
    "batch_size = 128  # minibatch size, i.e. size of data in each epoch\n",
    "num_epochs = 20 # you should change it to 50 if you want to see a relatively good results\n",
    "learning_rate = 0.002\n",
    "decay_rate = 0.97\n",
    "rnn_size = 128 # size of RNN hidden state (output dimension)\n",
    "num_layers = 2 #number of layers in the RNN"
   ]
  },
  {
   "cell_type": "markdown",
   "metadata": {
    "button": false,
    "deletable": true,
    "new_sheet": false,
    "run_control": {
     "read_only": false
    }
   },
   "source": [
    "<p>Now, we can read the data at batches using the <b>TextLoader</b> class. It will convert the characters to numbers, and represent each sequence as a vector in batches:</p>"
   ]
  },
  {
   "cell_type": "code",
   "execution_count": 50,
   "metadata": {
    "button": false,
    "collapsed": false,
    "deletable": true,
    "new_sheet": false,
    "run_control": {
     "read_only": false
    }
   },
   "outputs": [
    {
     "name": "stdout",
     "output_type": "stream",
     "text": [
      "loading preprocessed files\n",
      "vocabulary size: 65\n",
      "Characters: (' ', 'e', 't', 'o', 'a', 'h', 's', 'r', 'n', 'i', '\\n', 'l', 'd', 'u', 'm', 'y', ',', 'w', 'f', 'c', 'g', 'I', 'b', 'p', ':', '.', 'A', 'v', 'k', 'T', \"'\", 'E', 'O', 'N', 'R', 'S', 'L', 'C', ';', 'W', 'U', 'H', 'M', 'B', '?', 'G', '!', 'D', '-', 'F', 'Y', 'P', 'K', 'V', 'j', 'q', 'x', 'z', 'J', 'Q', 'Z', 'X', '3', '&', '$')\n",
      "vocab number of 'F': 49\n",
      "Character sequences (first batch): [[49  9  7 ...  1  4  7]\n",
      " [39  5  3 ...  0 20  9]\n",
      " [ 0  5  9 ... 19  4 13]\n",
      " ...\n",
      " [ 3 18 18 ...  1  0 23]\n",
      " [ 7  1 23 ... 18  3  7]\n",
      " [47 26 24 ...  0  8  3]]\n"
     ]
    }
   ],
   "source": [
    "data_loader = TextLoader('', batch_size, seq_length)\n",
    "vocab_size = data_loader.vocab_size\n",
    "print (\"vocabulary size:\" ,data_loader.vocab_size)\n",
    "print (\"Characters:\" ,data_loader.chars)\n",
    "print (\"vocab number of 'F':\",data_loader.vocab['F'])\n",
    "print (\"Character sequences (first batch):\", data_loader.x_batches[0])"
   ]
  },
  {
   "cell_type": "markdown",
   "metadata": {
    "button": false,
    "deletable": true,
    "new_sheet": false,
    "run_control": {
     "read_only": false
    }
   },
   "source": [
    "<b>Notice:</b> In the following cells, we just go through the process of defining each element of the LSTM, and explore the inputs, outputs of each layer. Then, we put all together and run the network."
   ]
  },
  {
   "cell_type": "markdown",
   "metadata": {
    "button": false,
    "deletable": true,
    "new_sheet": false,
    "run_control": {
     "read_only": false
    }
   },
   "source": [
    "<h3>1- Input and Output</h3>\n",
    "In the next cell we just take a look at a sample batch to underestand the data better. Each batch includes the input, <b>x</b>, and the character that we want to predict, <b>y</b>:"
   ]
  },
  {
   "cell_type": "code",
   "execution_count": 51,
   "metadata": {
    "button": false,
    "collapsed": false,
    "deletable": true,
    "new_sheet": false,
    "run_control": {
     "read_only": false
    }
   },
   "outputs": [
    {
     "data": {
      "text/plain": [
       "array([[49,  9,  7, ...,  1,  4,  7],\n",
       "       [39,  5,  3, ...,  0, 20,  9],\n",
       "       [ 0,  5,  9, ..., 19,  4, 13],\n",
       "       ...,\n",
       "       [ 3, 18, 18, ...,  1,  0, 23],\n",
       "       [ 7,  1, 23, ..., 18,  3,  7],\n",
       "       [47, 26, 24, ...,  0,  8,  3]])"
      ]
     },
     "execution_count": 51,
     "metadata": {},
     "output_type": "execute_result"
    }
   ],
   "source": [
    "x, y = data_loader.next_batch()\n",
    "x"
   ]
  },
  {
   "cell_type": "code",
   "execution_count": 52,
   "metadata": {
    "button": false,
    "collapsed": false,
    "deletable": true,
    "new_sheet": false,
    "run_control": {
     "read_only": false
    }
   },
   "outputs": [
    {
     "data": {
      "text/plain": [
       "(128, 50)"
      ]
     },
     "execution_count": 52,
     "metadata": {},
     "output_type": "execute_result"
    }
   ],
   "source": [
    "x.shape  #batch_size =128, seq_length=50"
   ]
  },
  {
   "cell_type": "markdown",
   "metadata": {
    "button": false,
    "deletable": true,
    "new_sheet": false,
    "run_control": {
     "read_only": false
    }
   },
   "source": [
    "Here, __y__ is the next character for each character in __x__:"
   ]
  },
  {
   "cell_type": "code",
   "execution_count": 53,
   "metadata": {
    "button": false,
    "collapsed": false,
    "deletable": true,
    "new_sheet": false,
    "run_control": {
     "read_only": false
    }
   },
   "outputs": [
    {
     "data": {
      "text/plain": [
       "174"
      ]
     },
     "execution_count": 53,
     "metadata": {},
     "output_type": "execute_result"
    }
   ],
   "source": [
    "y\n",
    "data_loader.num_batches"
   ]
  },
  {
   "cell_type": "markdown",
   "metadata": {
    "button": false,
    "deletable": true,
    "new_sheet": false,
    "run_control": {
     "read_only": false
    }
   },
   "source": [
    "<a id=\"lstm\"></a>\n",
    "<h3>2- What is Long Short-Term Memory Model (LSTM)?</h3>\n",
    "\n",
    "<p>Recurrent Neural Networks are Deep Learning models with simple structures and a feedback mechanism built-in, or in different words, the output of a layer is added to the next input and fed back to the same layer.</p>\n",
    "\n",
    "<p>The Recurrent Neural Network is a specialized type of Neural Network that solves the issue of <b>maintaining context for Sequential data</b> -- such as Weather data, Stocks, Genes, etc. At each iterative step, the processing unit takes in an input and the current state of the network, and produces an output and a new state that is <b>re-fed into the network</b>.</p>\n",
    "\n",
    "<p>However, <b>this model has some problems</b>. It's very computationally expensive to maintain the state for a large amount of units, even more so over a long amount of time. Additionally, Recurrent Networks are very sensitive to changes in their parameters. To solve these problems, we use a specific type of RNN, is called Long Short-Term Memory (LSTM).</p>\n",
    "\n",
    "\n",
    "Each LSTM cell has 5 parts:\n",
    "<ol>\n",
    "    <li>Input</li>\n",
    "    <li>prv_state</li>\n",
    "    <li>prv_output</li>\n",
    "    <li>new_state</li>\n",
    "    <li>new_output</li>\n",
    "</ol>\n",
    "\n",
    "<ul>\n",
    "    <li>Each LSTM cell has an input layer, which its size is 128 units in our case. The input vector's dimension also is 128, which is the dimensionality of embedding vector, so called, dimension size of Word2Vec embedding, for each character.</li>\n",
    "    <li>Each LSTM cell has a hidden layer, where there are some hidden units. The argument n_hidden=128 of BasicLSTMCell is the number of hidden units of the LSTM (inside A). It keeps the size of the output and state vector. It is also known as, rnn_size, num_units, num_hidden_units, and LSTM size, in literature.</li>\n",
    "    <li>An LSTM keeps two pieces of information as it propagates through time:</li> \n",
    "    <ul>\n",
    "         <li><b>hidden state</b> vector: Each LSTM cell accept a vector, called <b>hidden state</b> vector, of size n_hidden=128, and its value is returned to the LSTM cell in the next step. The <b>hidden state</b> vector; which is the memory of the LSTM, accumulates using its (forget, input, and output) gates through time. \"num_units\" is equivalant to \"size of RNN hidden state\". Number of hidden units is the dimensianality of the output (= dimesianality of the state) of the LSTM cell.</li>\n",
    "        <li><b>previous time-step output</b>: For each LSTM cell that we initialize, we need to supply a value (128 in this case) for the hidden dimension, or as some people like to call it, the number of units in the LSTM cell.</li> \n",
    "    </ul>\n",
    "</ul>\n",
    "<br>\n",
    "\n",
    "<h4>Stacked LSTM</h4>\n",
    "<p>What about if we want to have a RNN with stacked LSTM? For example, a 2-layer LSTM. In this case, the output of the first layer will become the input of the second.</p>\n",
    "\n",
    "num_layers = 2 \n",
    "<ul>\n",
    "    <li>number of layers in the RNN, is defined by <code>num_layers</code> parameter.</li>\n",
    "    <li>An input of MultiRNNCell is <b>cells</b> which is list of RNNCells that will be composed in this order.</li>\n",
    "</ul>\n",
    "<br>"
   ]
  },
  {
   "cell_type": "markdown",
   "metadata": {
    "button": false,
    "deletable": true,
    "new_sheet": false,
    "run_control": {
     "read_only": false
    }
   },
   "source": [
    "<h3>3- Defining stacked RNN Cell</h3>"
   ]
  },
  {
   "cell_type": "markdown",
   "metadata": {
    "button": false,
    "deletable": true,
    "new_sheet": false,
    "run_control": {
     "read_only": false
    }
   },
   "source": [
    "<b>BasicRNNCell</b> is the most basic RNN cell."
   ]
  },
  {
   "cell_type": "code",
   "execution_count": 54,
   "metadata": {
    "button": false,
    "collapsed": true,
    "deletable": true,
    "new_sheet": false,
    "run_control": {
     "read_only": false
    }
   },
   "outputs": [
    {
     "data": {
      "text/plain": [
       "128"
      ]
     },
     "execution_count": 54,
     "metadata": {},
     "output_type": "execute_result"
    }
   ],
   "source": [
    "# to define a LSTM cell\n",
    "cell = tf.contrib.rnn.BasicRNNCell(rnn_size)\n",
    "# a two layer cell\n",
    "stacked_cell = tf.contrib.rnn.MultiRNNCell([cell] * num_layers)\n",
    "# hidden state size\n",
    "stacked_cell.output_size"
   ]
  },
  {
   "cell_type": "markdown",
   "metadata": {
    "button": false,
    "deletable": true,
    "new_sheet": false,
    "run_control": {
     "read_only": false
    }
   },
   "source": [
    "<b>state</b> variable keeps output and new_state of the LSTM, so it is double in size:"
   ]
  },
  {
   "cell_type": "code",
   "execution_count": 55,
   "metadata": {
    "button": false,
    "collapsed": false,
    "deletable": true,
    "new_sheet": false,
    "run_control": {
     "read_only": false
    }
   },
   "outputs": [
    {
     "data": {
      "text/plain": [
       "(128, 128)"
      ]
     },
     "execution_count": 55,
     "metadata": {},
     "output_type": "execute_result"
    }
   ],
   "source": [
    "stacked_cell.state_size"
   ]
  },
  {
   "cell_type": "markdown",
   "metadata": {
    "button": false,
    "deletable": true,
    "new_sheet": false,
    "run_control": {
     "read_only": false
    }
   },
   "source": [
    "Lets define the input data:"
   ]
  },
  {
   "cell_type": "code",
   "execution_count": 56,
   "metadata": {
    "button": false,
    "collapsed": false,
    "deletable": true,
    "new_sheet": false,
    "run_control": {
     "read_only": false
    }
   },
   "outputs": [
    {
     "data": {
      "text/plain": [
       "<tf.Tensor 'Placeholder:0' shape=(128, 50) dtype=int32>"
      ]
     },
     "execution_count": 56,
     "metadata": {},
     "output_type": "execute_result"
    }
   ],
   "source": [
    "input_data = tf.placeholder(tf.int32, [batch_size, seq_length])# a 128x50\n",
    "input_data"
   ]
  },
  {
   "cell_type": "markdown",
   "metadata": {
    "button": false,
    "deletable": true,
    "new_sheet": false,
    "run_control": {
     "read_only": false
    }
   },
   "source": [
    "and target data, what we want to predict:"
   ]
  },
  {
   "cell_type": "code",
   "execution_count": 57,
   "metadata": {
    "button": false,
    "collapsed": false,
    "deletable": true,
    "new_sheet": false,
    "run_control": {
     "read_only": false
    }
   },
   "outputs": [
    {
     "data": {
      "text/plain": [
       "<tf.Tensor 'Placeholder_1:0' shape=(128, 50) dtype=int32>"
      ]
     },
     "execution_count": 57,
     "metadata": {},
     "output_type": "execute_result"
    }
   ],
   "source": [
    "targets = tf.placeholder(tf.int32, [batch_size, seq_length]) # a 128x50\n",
    "targets"
   ]
  },
  {
   "cell_type": "markdown",
   "metadata": {
    "button": false,
    "deletable": true,
    "new_sheet": false,
    "run_control": {
     "read_only": false
    }
   },
   "source": [
    "The memory state of the network is initialized with a vector of zeros and gets updated after reading each character.\n",
    "\n",
    "<b>BasicRNNCell.zero_state(batch_size, dtype)</b> Return zero-filled state tensor(s). In this function, batch_size\n",
    "representing the batch size."
   ]
  },
  {
   "cell_type": "code",
   "execution_count": 58,
   "metadata": {
    "button": false,
    "collapsed": false,
    "deletable": true,
    "new_sheet": false,
    "run_control": {
     "read_only": false
    }
   },
   "outputs": [
    {
     "data": {
      "text/plain": [
       "(<tf.Tensor 'MultiRNNCellZeroState/BasicRNNCellZeroState/zeros:0' shape=(128, 128) dtype=float32>,\n",
       " <tf.Tensor 'MultiRNNCellZeroState/BasicRNNCellZeroState_1/zeros:0' shape=(128, 128) dtype=float32>)"
      ]
     },
     "execution_count": 58,
     "metadata": {},
     "output_type": "execute_result"
    }
   ],
   "source": [
    "initial_state = stacked_cell.zero_state(batch_size, tf.float32) \n",
    "initial_state"
   ]
  },
  {
   "cell_type": "markdown",
   "metadata": {
    "button": false,
    "deletable": true,
    "new_sheet": false,
    "run_control": {
     "read_only": false
    }
   },
   "source": [
    "Lets check the value of the input_data again:"
   ]
  },
  {
   "cell_type": "code",
   "execution_count": 59,
   "metadata": {
    "button": false,
    "collapsed": false,
    "deletable": true,
    "new_sheet": false,
    "run_control": {
     "read_only": false
    }
   },
   "outputs": [
    {
     "data": {
      "text/plain": [
       "array([[49,  9,  7, ...,  1,  4,  7],\n",
       "       [39,  5,  3, ...,  0, 20,  9],\n",
       "       [ 0,  5,  9, ..., 19,  4, 13],\n",
       "       ...,\n",
       "       [ 3, 18, 18, ...,  1,  0, 23],\n",
       "       [ 7,  1, 23, ..., 18,  3,  7],\n",
       "       [47, 26, 24, ...,  0,  8,  3]], dtype=int32)"
      ]
     },
     "execution_count": 59,
     "metadata": {},
     "output_type": "execute_result"
    }
   ],
   "source": [
    "session = tf.Session(config=config)\n",
    "feed_dict={input_data:x, targets:y}\n",
    "session.run(input_data, feed_dict)"
   ]
  },
  {
   "cell_type": "markdown",
   "metadata": {
    "button": false,
    "deletable": true,
    "new_sheet": false,
    "run_control": {
     "read_only": false
    }
   },
   "source": [
    "<h3>4- Embedding</h3>\n",
    "<p>In this section, we build a 128-dim vector for each character. As we have 60 batches, and 50 character in each sequence, it will generate a [60,50,128] matrix.</p>\n",
    "\n",
    "<p><b>Notice:</b> The function <code>tf.get_variable()</code> is used to share a variable and to initialize it in one place. <code>tf.get_variable()</code> is used to get or create a variable instead of a direct call to <code>tf.Variable</code>.</p>"
   ]
  },
  {
   "cell_type": "code",
   "execution_count": 60,
   "metadata": {
    "button": false,
    "collapsed": true,
    "deletable": true,
    "new_sheet": false,
    "run_control": {
     "read_only": false
    }
   },
   "outputs": [],
   "source": [
    "with tf.variable_scope('rnnlm', reuse=False):\n",
    "    softmax_w = tf.get_variable(\"softmax_w\", [rnn_size, vocab_size]) #128x65\n",
    "    softmax_b = tf.get_variable(\"softmax_b\", [vocab_size]) # 1x65)\n",
    "    #with tf.device(\"/cpu:0\"):\n",
    "        \n",
    "    # embedding variable is initialized randomely\n",
    "    embedding = tf.get_variable(\"embedding\", [vocab_size, rnn_size])  #65x128\n",
    "    \n",
    "    ## 60 es 128 creo\n",
    "\n",
    "    # embedding_lookup goes to each row of input_data, and for each character in the row, finds the correspond vector in embedding\n",
    "    # it creates a 60*50*[1*128] matrix\n",
    "    # so, the first elemnt of em, is a matrix of 50x128, which each row of it is vector representing that character\n",
    "    em = tf.nn.embedding_lookup(embedding, input_data) # em is 60x50x[1*128]\n",
    "    # split: Splits a tensor into sub tensors.\n",
    "    # syntax:  tf.split(split_dim, num_split, value, name='split')\n",
    "    # it will split the 60x50x[1x128] matrix into 50 matrix of 60x[1*128]\n",
    "    inputs = tf.split(em, seq_length, 1)\n",
    "    # It will convert the list to 50 matrix of [60x128]\n",
    "    inputs = [tf.squeeze(input_, [1]) for input_ in inputs]"
   ]
  },
  {
   "cell_type": "markdown",
   "metadata": {
    "button": false,
    "deletable": true,
    "new_sheet": false,
    "run_control": {
     "read_only": false
    }
   },
   "source": [
    "Lets take a look at the <b>embedding</b>, <b>em</b>, and <b>inputs</b> variables:\n",
    "\n",
    "Embedding variable is initialized with random values:"
   ]
  },
  {
   "cell_type": "code",
   "execution_count": 61,
   "metadata": {
    "button": false,
    "collapsed": false,
    "deletable": true,
    "new_sheet": false,
    "run_control": {
     "read_only": false
    }
   },
   "outputs": [
    {
     "data": {
      "text/plain": [
       "array([[ 0.03370088,  0.14265268,  0.00459908, ..., -0.1398085 ,\n",
       "        -0.04557253, -0.02616213],\n",
       "       [-0.10150021, -0.02180839,  0.1735829 , ..., -0.1444354 ,\n",
       "         0.14879008, -0.07018928],\n",
       "       [-0.15025117, -0.03415515,  0.16303195, ...,  0.03126767,\n",
       "        -0.13953497, -0.02735461],\n",
       "       ...,\n",
       "       [ 0.10406275,  0.02341528, -0.00743324, ..., -0.15329939,\n",
       "        -0.13845628,  0.14568631],\n",
       "       [ 0.05975629,  0.09156562,  0.02972074, ...,  0.10593627,\n",
       "        -0.08002165,  0.14458351],\n",
       "       [-0.14072622,  0.00413355, -0.13084324, ..., -0.10304967,\n",
       "         0.14557402,  0.04163685]], dtype=float32)"
      ]
     },
     "execution_count": 61,
     "metadata": {},
     "output_type": "execute_result"
    }
   ],
   "source": [
    "session.run(tf.global_variables_initializer())\n",
    "#print embedding.shape\n",
    "session.run(embedding)"
   ]
  },
  {
   "cell_type": "markdown",
   "metadata": {
    "button": false,
    "deletable": true,
    "new_sheet": false,
    "run_control": {
     "read_only": false
    }
   },
   "source": [
    "The first elemnt of em, is a matrix of 50x128, which each row of it is vector representing that character"
   ]
  },
  {
   "cell_type": "code",
   "execution_count": 62,
   "metadata": {
    "button": false,
    "collapsed": false,
    "deletable": true,
    "new_sheet": false,
    "run_control": {
     "read_only": false
    }
   },
   "outputs": [
    {
     "name": "stdout",
     "output_type": "stream",
     "text": [
      "(128, 50, 128)\n"
     ]
    },
    {
     "data": {
      "text/plain": [
       "array([[-0.00934447, -0.084265  , -0.05813091, ...,  0.04630718,\n",
       "        -0.10250546, -0.11796059],\n",
       "       [ 0.11095558, -0.08744842, -0.16288105, ..., -0.17294146,\n",
       "         0.00551869,  0.01584445],\n",
       "       [ 0.0483267 , -0.08760324,  0.02476434, ...,  0.08875827,\n",
       "         0.01434892,  0.17083643],\n",
       "       ...,\n",
       "       [-0.10150021, -0.02180839,  0.1735829 , ..., -0.1444354 ,\n",
       "         0.14879008, -0.07018928],\n",
       "       [-0.11194587, -0.07648394,  0.05483873, ...,  0.14405571,\n",
       "         0.06704114,  0.14150967],\n",
       "       [ 0.0483267 , -0.08760324,  0.02476434, ...,  0.08875827,\n",
       "         0.01434892,  0.17083643]], dtype=float32)"
      ]
     },
     "execution_count": 62,
     "metadata": {},
     "output_type": "execute_result"
    }
   ],
   "source": [
    "em = tf.nn.embedding_lookup(embedding, input_data)\n",
    "emp = session.run(em,feed_dict={input_data:x})\n",
    "print (emp.shape)\n",
    "emp[0]"
   ]
  },
  {
   "cell_type": "markdown",
   "metadata": {
    "button": false,
    "deletable": true,
    "new_sheet": false,
    "run_control": {
     "read_only": false
    }
   },
   "source": [
    "<p>Let's consider each sequence as a sentence of length 50 characters, then, the first item in <b>inputs</b> is a [60x128] vector which represents the first characters of 60 sentences.</p>"
   ]
  },
  {
   "cell_type": "code",
   "execution_count": 63,
   "metadata": {
    "button": false,
    "collapsed": false,
    "deletable": true,
    "new_sheet": false,
    "run_control": {
     "read_only": false
    }
   },
   "outputs": [
    {
     "data": {
      "text/plain": [
       "[<tf.Tensor 'Squeeze:0' shape=(128, 128) dtype=float32>,\n",
       " <tf.Tensor 'Squeeze_1:0' shape=(128, 128) dtype=float32>,\n",
       " <tf.Tensor 'Squeeze_2:0' shape=(128, 128) dtype=float32>,\n",
       " <tf.Tensor 'Squeeze_3:0' shape=(128, 128) dtype=float32>,\n",
       " <tf.Tensor 'Squeeze_4:0' shape=(128, 128) dtype=float32>]"
      ]
     },
     "execution_count": 63,
     "metadata": {},
     "output_type": "execute_result"
    }
   ],
   "source": [
    "inputs = tf.split(em, seq_length, 1)\n",
    "inputs = [tf.squeeze(input_, [1]) for input_ in inputs]\n",
    "inputs[0:5]"
   ]
  },
  {
   "cell_type": "markdown",
   "metadata": {
    "button": false,
    "deletable": true,
    "new_sheet": false,
    "run_control": {
     "read_only": false
    }
   },
   "source": [
    "<h3>5- Feeding a batch of 50 sequence to a RNN:</h3>\n",
    "\n",
    "The feeding process for inputs is as following:\n",
    "<ul>\n",
    "    <li>Step 1: first character of each of the 50 sentences (in a batch) is entered in parallel.</li>  \n",
    "    <li>Step 2: second character of each of the 50 sentences is input in parallel.</li> \n",
    "    <li>Step n: nth character of each of the 50 sentences is input in parallel.</li>  \n",
    "</ul>\n",
    "<p>The parallelism is only for efficiency. Each character in a batch is handled in parallel, but the network sees one character of a sequence at a time and does the computations accordingly. All the computations involving the characters of all sequences in a batch at a given time step are done in parallel.</p>"
   ]
  },
  {
   "cell_type": "code",
   "execution_count": 64,
   "metadata": {
    "button": false,
    "collapsed": false,
    "deletable": true,
    "new_sheet": false,
    "run_control": {
     "read_only": false
    }
   },
   "outputs": [
    {
     "data": {
      "text/plain": [
       "array([[-0.00934447, -0.084265  , -0.05813091, ...,  0.04630718,\n",
       "        -0.10250546, -0.11796059],\n",
       "       [ 0.00165333,  0.08474667,  0.1680633 , ...,  0.16590975,\n",
       "        -0.06251256,  0.17097212],\n",
       "       [ 0.03370088,  0.14265268,  0.00459908, ..., -0.1398085 ,\n",
       "        -0.04557253, -0.02616213],\n",
       "       ...,\n",
       "       [-0.09779658, -0.15533438,  0.16406824, ..., -0.05217209,\n",
       "         0.0004659 ,  0.01977205],\n",
       "       [ 0.0483267 , -0.08760324,  0.02476434, ...,  0.08875827,\n",
       "         0.01434892,  0.17083643],\n",
       "       [-0.1598894 , -0.10283991,  0.00975636, ..., -0.00200191,\n",
       "        -0.03404644,  0.06608693]], dtype=float32)"
      ]
     },
     "execution_count": 64,
     "metadata": {},
     "output_type": "execute_result"
    }
   ],
   "source": [
    "session.run(inputs[0],feed_dict={input_data:x})"
   ]
  },
  {
   "cell_type": "markdown",
   "metadata": {
    "button": false,
    "deletable": true,
    "new_sheet": false,
    "run_control": {
     "read_only": false
    }
   },
   "source": [
    "Feeding the RNN with one batch, we can check the new output and new state of network:"
   ]
  },
  {
   "cell_type": "code",
   "execution_count": 65,
   "metadata": {
    "button": false,
    "collapsed": false,
    "deletable": true,
    "new_sheet": false,
    "run_control": {
     "read_only": false
    }
   },
   "outputs": [
    {
     "data": {
      "text/plain": [
       "(<tf.Tensor 'rnnlm_1/rnnlm/multi_rnn_cell/cell_0/basic_rnn_cell/Tanh_98:0' shape=(128, 128) dtype=float32>,\n",
       " <tf.Tensor 'rnnlm_1/rnnlm/multi_rnn_cell/cell_0/basic_rnn_cell/Tanh_99:0' shape=(128, 128) dtype=float32>)"
      ]
     },
     "execution_count": 65,
     "metadata": {},
     "output_type": "execute_result"
    }
   ],
   "source": [
    "#outputs is 50x[60*128]\n",
    "outputs, new_state = tf.contrib.legacy_seq2seq.rnn_decoder(inputs, initial_state, stacked_cell, loop_function=None, scope='rnnlm')\n",
    "new_state"
   ]
  },
  {
   "cell_type": "code",
   "execution_count": 66,
   "metadata": {
    "button": false,
    "collapsed": false,
    "deletable": true,
    "new_sheet": false,
    "run_control": {
     "read_only": false
    }
   },
   "outputs": [
    {
     "data": {
      "text/plain": [
       "[<tf.Tensor 'rnnlm_1/rnnlm/multi_rnn_cell/cell_0/basic_rnn_cell/Tanh_1:0' shape=(128, 128) dtype=float32>,\n",
       " <tf.Tensor 'rnnlm_1/rnnlm/multi_rnn_cell/cell_0/basic_rnn_cell/Tanh_3:0' shape=(128, 128) dtype=float32>,\n",
       " <tf.Tensor 'rnnlm_1/rnnlm/multi_rnn_cell/cell_0/basic_rnn_cell/Tanh_5:0' shape=(128, 128) dtype=float32>,\n",
       " <tf.Tensor 'rnnlm_1/rnnlm/multi_rnn_cell/cell_0/basic_rnn_cell/Tanh_7:0' shape=(128, 128) dtype=float32>,\n",
       " <tf.Tensor 'rnnlm_1/rnnlm/multi_rnn_cell/cell_0/basic_rnn_cell/Tanh_9:0' shape=(128, 128) dtype=float32>]"
      ]
     },
     "execution_count": 66,
     "metadata": {},
     "output_type": "execute_result"
    }
   ],
   "source": [
    "outputs[0:5]"
   ]
  },
  {
   "cell_type": "markdown",
   "metadata": {
    "button": false,
    "deletable": true,
    "new_sheet": false,
    "run_control": {
     "read_only": false
    }
   },
   "source": [
    "Let's check the output of network after feeding it with first batch:"
   ]
  },
  {
   "cell_type": "code",
   "execution_count": 67,
   "metadata": {
    "button": false,
    "collapsed": false,
    "deletable": true,
    "new_sheet": false,
    "run_control": {
     "read_only": false
    }
   },
   "outputs": [
    {
     "data": {
      "text/plain": [
       "array([[-0.04559919,  0.11639946,  0.03230022, ..., -0.03185019,\n",
       "         0.20284697, -0.01772736],\n",
       "       [ 0.04049268, -0.04470022, -0.04394823, ...,  0.0326535 ,\n",
       "        -0.04679606, -0.02247978],\n",
       "       [ 0.10576742, -0.03411361, -0.16822664, ..., -0.0521829 ,\n",
       "        -0.05497143,  0.04611024],\n",
       "       ...,\n",
       "       [ 0.02533886, -0.01705698,  0.02211584, ..., -0.11853757,\n",
       "         0.0082701 , -0.01619163],\n",
       "       [ 0.1082576 ,  0.04485267, -0.0543448 , ..., -0.03680371,\n",
       "        -0.01374891,  0.03973924],\n",
       "       [ 0.01386705, -0.00070651,  0.09507094, ...,  0.04024157,\n",
       "        -0.03453568, -0.02231688]], dtype=float32)"
      ]
     },
     "execution_count": 67,
     "metadata": {},
     "output_type": "execute_result"
    }
   ],
   "source": [
    "first_output = outputs[0]\n",
    "session.run(tf.global_variables_initializer())\n",
    "session.run(first_output,feed_dict={input_data:x})"
   ]
  },
  {
   "cell_type": "markdown",
   "metadata": {
    "button": false,
    "deletable": true,
    "new_sheet": false,
    "run_control": {
     "read_only": false
    }
   },
   "source": [
    "<p>As it was explained, <b>outputs</b> variable is a 50x[60x128] tensor. We need to reshape it back to [60x50x128] to be able to calculate the probablity of the next character using the softmax. The <b>softmax_w</b> shape is [rnn_size, vocab_size], which is [128x65] in our case. Therefore, we have a fully connected layer on top of LSTM cells, which help us to decode the next charachter. We can use the <b>softmax(output * softmax_w + softmax_b)</b> for this purpose. The shape of the matrixis would be:</p>\n",
    "\n",
    "softmax([60x50x128]x[128x65]+[1x65]) = [60x50x65]"
   ]
  },
  {
   "cell_type": "markdown",
   "metadata": {
    "button": false,
    "deletable": true,
    "new_sheet": false,
    "run_control": {
     "read_only": false
    }
   },
   "source": [
    "We can do it step-by-step:"
   ]
  },
  {
   "cell_type": "code",
   "execution_count": 68,
   "metadata": {
    "button": false,
    "collapsed": false,
    "deletable": true,
    "new_sheet": false,
    "run_control": {
     "read_only": false
    }
   },
   "outputs": [
    {
     "data": {
      "text/plain": [
       "<tf.Tensor 'Reshape:0' shape=(6400, 128) dtype=float32>"
      ]
     },
     "execution_count": 68,
     "metadata": {},
     "output_type": "execute_result"
    }
   ],
   "source": [
    "output = tf.reshape(tf.concat( outputs,1), [-1, rnn_size])\n",
    "output"
   ]
  },
  {
   "cell_type": "code",
   "execution_count": 69,
   "metadata": {
    "button": false,
    "collapsed": false,
    "deletable": true,
    "new_sheet": false,
    "run_control": {
     "read_only": false
    }
   },
   "outputs": [
    {
     "data": {
      "text/plain": [
       "<tf.Tensor 'add:0' shape=(6400, 65) dtype=float32>"
      ]
     },
     "execution_count": 69,
     "metadata": {},
     "output_type": "execute_result"
    }
   ],
   "source": [
    "logits = tf.matmul(output, softmax_w) + softmax_b\n",
    "logits"
   ]
  },
  {
   "cell_type": "code",
   "execution_count": 70,
   "metadata": {
    "button": false,
    "collapsed": false,
    "deletable": true,
    "new_sheet": false,
    "run_control": {
     "read_only": false
    }
   },
   "outputs": [
    {
     "data": {
      "text/plain": [
       "<tf.Tensor 'Softmax:0' shape=(6400, 65) dtype=float32>"
      ]
     },
     "execution_count": 70,
     "metadata": {},
     "output_type": "execute_result"
    }
   ],
   "source": [
    "probs = tf.nn.softmax(logits)\n",
    "probs"
   ]
  },
  {
   "cell_type": "markdown",
   "metadata": {
    "button": false,
    "deletable": true,
    "new_sheet": false,
    "run_control": {
     "read_only": false
    }
   },
   "source": [
    "Here is the probablity of the next chracter in all batches:"
   ]
  },
  {
   "cell_type": "code",
   "execution_count": 71,
   "metadata": {
    "button": false,
    "collapsed": false,
    "deletable": true,
    "new_sheet": false,
    "run_control": {
     "read_only": false
    }
   },
   "outputs": [
    {
     "data": {
      "text/plain": [
       "array([[0.01667046, 0.01702614, 0.01340325, ..., 0.01174462, 0.01438631,\n",
       "        0.01765117],\n",
       "       [0.01708425, 0.01736677, 0.01385152, ..., 0.00991036, 0.01466997,\n",
       "        0.01460215],\n",
       "       [0.01723803, 0.01443772, 0.01284474, ..., 0.01024839, 0.01271582,\n",
       "        0.02015672],\n",
       "       ...,\n",
       "       [0.01302987, 0.01734458, 0.01246426, ..., 0.01396611, 0.01633789,\n",
       "        0.01381489],\n",
       "       [0.02170997, 0.01539927, 0.01154829, ..., 0.01456155, 0.01665578,\n",
       "        0.01779807],\n",
       "       [0.02183082, 0.01928185, 0.01074087, ..., 0.01820514, 0.017279  ,\n",
       "        0.01855656]], dtype=float32)"
      ]
     },
     "execution_count": 71,
     "metadata": {},
     "output_type": "execute_result"
    }
   ],
   "source": [
    "session.run(tf.global_variables_initializer())\n",
    "session.run(probs,feed_dict={input_data:x})"
   ]
  },
  {
   "cell_type": "markdown",
   "metadata": {
    "button": false,
    "deletable": true,
    "new_sheet": false,
    "run_control": {
     "read_only": false
    }
   },
   "source": [
    "Now, we are in the position to calculate the cost of training with <b>loss function</b>, and keep feeding the network to learn it. But, the question is: what does the LSTM networks learn?"
   ]
  },
  {
   "cell_type": "code",
   "execution_count": 72,
   "metadata": {
    "button": false,
    "collapsed": false,
    "deletable": true,
    "new_sheet": false,
    "run_control": {
     "read_only": false
    }
   },
   "outputs": [
    {
     "data": {
      "text/plain": [
       "[<tf.Variable 'rnn_CPU/rnnlm_class1/softmax_w:0' shape=(128, 65) dtype=float32_ref>,\n",
       " <tf.Variable 'rnn_CPU/rnnlm_class1/softmax_b:0' shape=(65,) dtype=float32_ref>,\n",
       " <tf.Variable 'rnn_CPU/rnnlm_class1/embedding:0' shape=(65, 128) dtype=float32_ref>,\n",
       " <tf.Variable 'rnn_CPU/rnnlm_class1/multi_rnn_cell/cell_0/basic_rnn_cell/kernel:0' shape=(256, 128) dtype=float32_ref>,\n",
       " <tf.Variable 'rnn_CPU/rnnlm_class1/multi_rnn_cell/cell_0/basic_rnn_cell/bias:0' shape=(128,) dtype=float32_ref>,\n",
       " <tf.Variable 'rnnlm/softmax_w:0' shape=(128, 65) dtype=float32_ref>,\n",
       " <tf.Variable 'rnnlm/softmax_b:0' shape=(65,) dtype=float32_ref>,\n",
       " <tf.Variable 'rnnlm/embedding:0' shape=(65, 128) dtype=float32_ref>,\n",
       " <tf.Variable 'rnnlm/multi_rnn_cell/cell_0/basic_rnn_cell/kernel:0' shape=(256, 128) dtype=float32_ref>,\n",
       " <tf.Variable 'rnnlm/multi_rnn_cell/cell_0/basic_rnn_cell/bias:0' shape=(128,) dtype=float32_ref>]"
      ]
     },
     "execution_count": 72,
     "metadata": {},
     "output_type": "execute_result"
    }
   ],
   "source": [
    "grad_clip =5.\n",
    "tvars = tf.trainable_variables()\n",
    "tvars"
   ]
  },
  {
   "cell_type": "markdown",
   "metadata": {
    "button": false,
    "deletable": true,
    "new_sheet": false,
    "run_control": {
     "read_only": false
    }
   },
   "source": [
    "Okay, by now, you should understand enough about each component of a LSTM network to be able to train it, and predict the next word. "
   ]
  },
  {
   "cell_type": "markdown",
   "metadata": {
    "button": false,
    "deletable": true,
    "new_sheet": false,
    "run_control": {
     "read_only": false
    }
   },
   "source": [
    "<h2>All together</h2>\n",
    "Now, let's put all of parts together in a class, and train the model:"
   ]
  },
  {
   "cell_type": "code",
   "execution_count": 73,
   "metadata": {
    "button": false,
    "collapsed": true,
    "deletable": true,
    "new_sheet": false,
    "run_control": {
     "read_only": false
    }
   },
   "outputs": [],
   "source": [
    "class LSTMModel():\n",
    "    def __init__(self,sample=False, device='/cpu:0'):\n",
    "        rnn_size = 128 # size of RNN hidden state vector\n",
    "        batch_size = 128 # minibatch size, i.e. size of dataset in each epoch\n",
    "        seq_length = 50 # RNN sequence length\n",
    "        num_layers = 2 # number of layers in the RNN\n",
    "        vocab_size = 65\n",
    "        grad_clip = 5.\n",
    "        if sample:\n",
    "            batch_size = 1\n",
    "            seq_length = 1\n",
    "        with tf.device(device):\n",
    "            # The core of the model consists of an LSTM cell that processes one char at a time and computes probabilities of the possible continuations of the char. \n",
    "            basic_cell = tf.contrib.rnn.BasicRNNCell(rnn_size)\n",
    "            # model.cell.state_size is (128, 128)\n",
    "            self.stacked_cell = tf.contrib.rnn.MultiRNNCell([basic_cell] * num_layers)\n",
    "\n",
    "            self.input_data = tf.placeholder(tf.int32, [batch_size, seq_length], name=\"input_data\")\n",
    "            self.targets = tf.placeholder(tf.int32, [batch_size, seq_length], name=\"targets\")\n",
    "            # Initial state of the LSTM memory.\n",
    "            # The memory state of the network is initialized with a vector of zeros and gets updated after reading each char. \n",
    "            self.initial_state = stacked_cell.zero_state(batch_size, tf.float32) #why batch_size\n",
    "\n",
    "            with tf.variable_scope('rnnlm_class1'):\n",
    "                softmax_w = tf.get_variable(\"softmax_w\", [rnn_size, vocab_size]) #128x65\n",
    "                softmax_b = tf.get_variable(\"softmax_b\", [vocab_size]) # 1x65\n",
    "                embedding = tf.get_variable(\"embedding\", [vocab_size, rnn_size])  #65x128\n",
    "                inputs = tf.split(tf.nn.embedding_lookup(embedding, self.input_data), seq_length, 1)\n",
    "                inputs = [tf.squeeze(input_, [1]) for input_ in inputs] \n",
    "\n",
    "            # The value of state is updated after processing each batch of chars.\n",
    "            outputs, last_state = tf.contrib.legacy_seq2seq.rnn_decoder(inputs, self.initial_state, self.stacked_cell, loop_function=None, scope='rnnlm_class1')\n",
    "            output = tf.reshape(tf.concat(outputs,1), [-1, rnn_size])\n",
    "            self.logits = tf.matmul(output, softmax_w) + softmax_b\n",
    "            self.probs = tf.nn.softmax(self.logits)\n",
    "            loss = tf.contrib.legacy_seq2seq.sequence_loss_by_example([self.logits],\n",
    "                    [tf.reshape(self.targets, [-1])],\n",
    "                    [tf.ones([batch_size * seq_length])],\n",
    "                    vocab_size)\n",
    "            self.cost = tf.reduce_sum(loss) / batch_size / seq_length\n",
    "            self.final_state = last_state\n",
    "            self.lr = tf.Variable(0.0, trainable=False)\n",
    "            tvars = tf.trainable_variables()\n",
    "            grads, _ = tf.clip_by_global_norm(tf.gradients(self.cost, tvars),grad_clip)\n",
    "            optimizer = tf.train.AdamOptimizer(self.lr)\n",
    "            self.train_op = optimizer.apply_gradients(zip(grads, tvars))\n",
    "\n",
    "    \n",
    "    def sample(self, sess, chars, vocab, num=200, prime='The ', sampling_type=1):\n",
    "        state = sess.run(self.stacked_cell.zero_state(1, tf.float32))\n",
    "        #print state\n",
    "        for char in prime[:-1]:\n",
    "            x = np.zeros((1, 1))\n",
    "            x[0, 0] = vocab[char]\n",
    "            feed = {self.input_data: x, self.initial_state:state}\n",
    "            [state] = sess.run([self.final_state], feed)\n",
    "\n",
    "        def weighted_pick(weights):\n",
    "            t = np.cumsum(weights)\n",
    "            s = np.sum(weights)\n",
    "            return(int(np.searchsorted(t, np.random.rand(1)*s)))\n",
    "\n",
    "        ret = prime\n",
    "        char = prime[-1]\n",
    "        for n in range(num):\n",
    "            x = np.zeros((1, 1))\n",
    "            x[0, 0] = vocab[char]\n",
    "            feed = {self.input_data: x, self.initial_state:state}\n",
    "            [probs, state] = sess.run([self.probs, self.final_state], feed)\n",
    "            p = probs[0]\n",
    "\n",
    "            if sampling_type == 0:\n",
    "                sample = np.argmax(p)\n",
    "            elif sampling_type == 2:\n",
    "                if char == ' ':\n",
    "                    sample = weighted_pick(p)\n",
    "                else:\n",
    "                    sample = np.argmax(p)\n",
    "            else: # sampling_type == 1 default:\n",
    "                sample = weighted_pick(p)\n",
    "\n",
    "            pred = chars[sample]\n",
    "            ret += pred\n",
    "            char = pred\n",
    "        return ret"
   ]
  },
  {
   "cell_type": "markdown",
   "metadata": {
    "button": false,
    "deletable": true,
    "new_sheet": false,
    "run_control": {
     "read_only": false
    }
   },
   "source": [
    "<a id=\"cpu_vs_gpu\"></a>\n",
    "<h2>Train your model using CPU and GPU</h2>\n",
    "We can train our model through feeding batches. You should be able to complete the following cells and submit it for review."
   ]
  },
  {
   "cell_type": "markdown",
   "metadata": {
    "button": false,
    "deletable": true,
    "new_sheet": false,
    "run_control": {
     "read_only": false
    }
   },
   "source": [
    "<a id=\"question_1\"></a>\n",
    "<h2>Question 1: Complete the code to run it on CPU</h2>"
   ]
  },
  {
   "cell_type": "code",
   "execution_count": 75,
   "metadata": {
    "button": false,
    "collapsed": false,
    "deletable": true,
    "new_sheet": false,
    "run_control": {
     "read_only": false
    }
   },
   "outputs": [
    {
     "name": "stdout",
     "output_type": "stream",
     "text": [
      "173/3480 (epoch 0), train_loss = 2.059, time/batch = 0.049\n",
      "----------------------------------\n",
      "SAMPLE GENERATED TEXT:\n",
      "The tow, 'lo ghou o jarouch.\n",
      "\n",
      "LACDESENLor: thar, thos fie welte:\n",
      "Tis afpidy, your. Cover dinisoms\n",
      "of rold,\n",
      "Loret?\n",
      "\n",
      "ARINDA:\n",
      "Butents maans ar co ing of mary\n",
      "----------------------------------\n",
      "347/3480 (epoch 1), train_loss = 1.841, time/batch = 0.054\n",
      "----------------------------------\n",
      "SAMPLE GENERATED TEXT:\n",
      "The have the soptoy!\n",
      "\n",
      "RSCENTIO:\n",
      "Cindear you way, hark; there, my carpin:\n",
      "And new, and trou?d\n",
      "By menclemve;\n",
      "I sight dingreash if my degute lparte, thou lev\n",
      "----------------------------------\n",
      "521/3480 (epoch 2), train_loss = 1.734, time/batch = 0.049\n",
      "----------------------------------\n",
      "SAMPLE GENERATED TEXT:\n",
      "The well farctsI\n",
      "Nuct'\n",
      "Patent to go drugt,\n",
      "To-tign villys. I draid leas,\n",
      "Dince loust that our away thou Rilesed.-\n",
      "'ard ling theart\n",
      "This youngr nailprain, \n",
      "----------------------------------\n",
      "695/3480 (epoch 3), train_loss = 1.672, time/batch = 0.050\n",
      "----------------------------------\n",
      "SAMPLE GENERATED TEXT:\n",
      "The it; both\n",
      "Your, the entar beartly be maom the'd a surmly he\n",
      "Will of Gart, not, knong his greased of a matterr's in the nou abe com;\n",
      "She teak, buck to r\n",
      "----------------------------------\n",
      "869/3480 (epoch 4), train_loss = 1.629, time/batch = 0.064\n",
      "----------------------------------\n",
      "SAMPLE GENERATED TEXT:\n",
      "The boil my lime.\n",
      "Come\n",
      "Mourmither fause!\n",
      "The bargentle? Should as I have tenouday, now;\n",
      "Shall coult to parts, wife, for me, fave, youngs\n",
      "That bevore.\n",
      "Forc\n",
      "----------------------------------\n",
      "1043/3480 (epoch 5), train_loss = 1.597, time/batch = 0.052\n",
      "----------------------------------\n",
      "SAMPLE GENERATED TEXT:\n",
      "The well wear I worthy a cravoue child; and fake this in she condsed:\n",
      "He you vise?\n",
      "Are my heart, Pridly the gower, who corved your strulty and men my may \n",
      "----------------------------------\n",
      "1217/3480 (epoch 6), train_loss = 1.570, time/batch = 0.048\n",
      "----------------------------------\n",
      "SAMPLE GENERATED TEXT:\n",
      "The shereforr your sofe:.\n",
      "Why lost shall murfeith of a circus. As, yough, milder.\n",
      "Come, thou denith, will live,\n",
      "They thou sty burious! it is pering ouch k\n",
      "----------------------------------\n",
      "1391/3480 (epoch 7), train_loss = 1.550, time/batch = 0.049\n",
      "----------------------------------\n",
      "SAMPLE GENERATED TEXT:\n",
      "The boy full mouth.\n",
      "Fieleries nor clove\n",
      "With my couply receiming upon Palight call answer:\n",
      "I difely will more but\n",
      "pastes\n",
      "That firch, known aboft by off\n",
      "Of\n",
      "----------------------------------\n",
      "1565/3480 (epoch 8), train_loss = 1.533, time/batch = 0.053\n",
      "----------------------------------\n",
      "SAMPLE GENERATED TEXT:\n",
      "The good breath.\n",
      "\n",
      "FoRY BOLINA:\n",
      "Eckend back out at shall be wiat my lord. Where is with comgain from and this 'is: most boy and revenger onsworn they see t\n",
      "----------------------------------\n",
      "1739/3480 (epoch 9), train_loss = 1.519, time/batch = 0.053\n",
      "----------------------------------\n",
      "SAMPLE GENERATED TEXT:\n",
      "The king depeel shall foul thin! the will Clace's now:\n",
      "Mare is behosted of thy veilone witend minest go intory whilst'n? the prove hip fill shall the clac\n",
      "----------------------------------\n",
      "1913/3480 (epoch 10), train_loss = 1.507, time/batch = 0.053\n",
      "----------------------------------\n",
      "SAMPLE GENERATED TEXT:\n",
      "The knave virses on him mild it, signing dignled wind to serve the cail'd o'er strong'd dishour wifes, age; and I fortulul persuccess, where cousin, thine\n",
      "----------------------------------\n",
      "----------------------------------\n",
      "SAMPLE GENERATED TEXT:\n",
      "The CanmI like warman them can\n",
      "Where\n",
      "Shall thee carses, to need? and Kine seest in mine and repeixingul, being a false, besit you thinks this trear nature\n",
      "----------------------------------\n",
      "2261/3480 (epoch 12), train_loss = 1.487, time/batch = 0.054\n",
      "----------------------------------\n",
      "SAMPLE GENERATED TEXT:\n",
      "The said that them the bly attem.\n",
      "\n",
      "ANGELO:\n",
      "Arily good mould brish and Eread your to-morrow to son,\n",
      "And often on dear.\n",
      "\n",
      "Third Lerse, ascravate instire shal\n",
      "----------------------------------\n",
      "2435/3480 (epoch 13), train_loss = 1.479, time/batch = 0.056\n",
      "----------------------------------\n",
      "SAMPLE GENERATED TEXT:\n",
      "The will be it on the siden\n",
      "Inatsign, liwest beveried ConfEst threek, sin, to lift drinking roonds of bur\n",
      "'Tis my steed? Subst.\n",
      "Take holy.\n",
      "\n",
      "AUFIDIUS:\n",
      "So, \n",
      "----------------------------------\n",
      "2609/3480 (epoch 14), train_loss = 1.472, time/batch = 0.049\n",
      "----------------------------------\n",
      "SAMPLE GENERATED TEXT:\n",
      "The lay!\n",
      "Thus, sir, deid, your profes:\n",
      "He vise.\n",
      "\n",
      "CAMILLO:\n",
      "Coot\n",
      "O' whose, look and somether.\n",
      "\n",
      "LUCIO:\n",
      "I have word here.\n",
      "\n",
      "ANTELBAR:\n",
      "Sir, Take a sword, things\n",
      "----------------------------------\n",
      "2783/3480 (epoch 15), train_loss = 1.466, time/batch = 0.051\n",
      "----------------------------------\n",
      "SAMPLE GENERATED TEXT:\n",
      "The bound high he strence, fairs.\n",
      "\n",
      "BOLINAN:\n",
      "If as I to dut, I taluse: 'tis batth thou dozr.\n",
      "\n",
      "ProvoLI.\n",
      "\n",
      "CAMILLO:\n",
      "Have to bthink rease to find for slain suc\n",
      "----------------------------------\n",
      "2957/3480 (epoch 16), train_loss = 1.461, time/batch = 0.052\n",
      "----------------------------------\n",
      "SAMPLE GENERATED TEXT:\n",
      "The dusmasce my look'd mile remain smore withous may as ten King that chis destrous of our recoquin the his night at us to your paliant, and epty to all t\n",
      "----------------------------------\n",
      "3131/3480 (epoch 17), train_loss = 1.456, time/batch = 0.051\n",
      "----------------------------------\n",
      "SAMPLE GENERATED TEXT:\n",
      "The gods the chap the rate: I woull friends; and office\n",
      "Tongue!\n",
      "What beheld for bear be spirit.\n",
      "I know the voiding shy that bid the\n",
      "shame have no codsing \n",
      "----------------------------------\n",
      "3305/3480 (epoch 18), train_loss = 1.451, time/batch = 0.047\n",
      "----------------------------------\n",
      "SAMPLE GENERATED TEXT:\n",
      "The kinius, graget: intell the king me with two from the troceness!\n",
      "\n",
      "CAPULET:\n",
      "Why, I can strend sweathed to pittirition.\n",
      "\n",
      "Domis the way too litter.:\n",
      "And w\n",
      "----------------------------------\n",
      "3479/3480 (epoch 19), train_loss = 1.447, time/batch = 0.053\n",
      "----------------------------------\n",
      "SAMPLE GENERATED TEXT:\n",
      "The do, shift with as young it are for this, what were you gate,\n",
      "That mone that sevits, siture friends will be tongces and I, many many condived\n",
      "The bogin\n",
      "----------------------------------\n"
     ]
    }
   ],
   "source": [
    "avg_batch_running_duration_CPU=[]\n",
    "tf.reset_default_graph()\n",
    "\n",
    "\n",
    "with tf.variable_scope(\"rnn_CPU\"):\n",
    "    model = LSTMModel(device='/cpu:0')\n",
    "with tf.Session() as sess:\n",
    "    sess.run(tf.global_variables_initializer())\n",
    "    for e in range(num_epochs): # num_epochs is 20 for test, but should be higher\n",
    "        sess.run(tf.assign(model.lr, learning_rate * (decay_rate ** e)))\n",
    "        ## write your code bellow to reset the batch pointer in data_loader. you can use reset_batch_pointer()\n",
    "        data_loader.reset_batch_pointer()\n",
    "        \n",
    "        state = sess.run(model.initial_state) # model initialization\n",
    "        batch_running_duration_CPU = []\n",
    "        for b in range(data_loader.num_batches): #for each batch\n",
    "            start = time.time()\n",
    "            ## write your code to define your x and y. You should use next_batch() from data_loader\n",
    "            x,y= data_loader.next_batch()\n",
    "            \n",
    "            feed = {model.input_data: x, model.targets: y, model.initial_state:state}\n",
    "            \n",
    "            ## write your code to train the model\n",
    "            train_loss, state, _ =  sess.run([model.cost, model.final_state, model.train_op],feed)\n",
    "            ##\n",
    "\n",
    "            end = time.time()\n",
    "            \n",
    "            ## write your code to store the duration of runing each batch in a list (end - start)\n",
    "            batch_running_duration_CPU.append(end-start)\n",
    "            \n",
    "        print(\"{}/{} (epoch {}), train_loss = {:.3f}, time/batch = {:.3f}\" \\\n",
    "                .format(e * data_loader.num_batches + b, num_epochs * data_loader.num_batches, e, train_loss, end - start))\n",
    "        avg_batch_running_duration_CPU.append(sum(batch_running_duration_CPU) / float(len(batch_running_duration_CPU)))\n",
    "        \n",
    "        # Please uncomment the following block of the code so the grader can see the sample of prediction\n",
    "        with tf.variable_scope(\"rnn_CPU\", reuse=True):\n",
    "            sample_model = LSTMModel(sample=True)\n",
    "            print ('----------------------------------')\n",
    "            print ('SAMPLE GENERATED TEXT:')\n",
    "            print (sample_model.sample(sess, data_loader.chars , data_loader.vocab, num=150, prime='The ', sampling_type=1))\n",
    "            print ('----------------------------------')"
   ]
  },
  {
   "cell_type": "markdown",
   "metadata": {
    "button": false,
    "deletable": true,
    "new_sheet": false,
    "run_control": {
     "read_only": false
    }
   },
   "source": [
    "<a id=\"question_2\"></a>\n",
    "<h2>Question 2: Complete the code to run it on GPU</h2>\n",
    "Now, create the same network with GPU, and calculate the time/batch for running each batch"
   ]
  },
  {
   "cell_type": "code",
   "execution_count": 76,
   "metadata": {
    "button": false,
    "collapsed": true,
    "deletable": true,
    "new_sheet": false,
    "run_control": {
     "read_only": false
    }
   },
   "outputs": [
    {
     "name": "stdout",
     "output_type": "stream",
     "text": [
      "173/3480 (epoch 0), train_loss = 2.052, time/batch = 0.020\n",
      "----------------------------------\n",
      "SAMPLE GENERATED TEXT:\n",
      "The homen'k.\n",
      "\n",
      "CEMA&LIN:\n",
      "Want king your theee we heve ayt, all that all'd as nis crotigo tane the love nide tubf hanger youl stawcente.\n",
      "\n",
      "FArRI:\n",
      "Bis tom bus\n",
      "----------------------------------\n",
      "347/3480 (epoch 1), train_loss = 1.840, time/batch = 0.022\n",
      "----------------------------------\n",
      "SAMPLE GENERATED TEXT:\n",
      "The year ast? My chauds and the wantunced lans,\n",
      "But she toith, never is parryss\n",
      "For the graitor.\n",
      "\n",
      "ESYord Ay Litise?\n",
      "\n",
      "IAHNO Have aspor till ont father tolt\n",
      "----------------------------------\n",
      "521/3480 (epoch 2), train_loss = 1.733, time/batch = 0.020\n",
      "----------------------------------\n",
      "SAMPLE GENERATED TEXT:\n",
      "The I known: to sear,\n",
      "'swnot's uppain.\n",
      "\n",
      "CAzULLE:\n",
      "I am, in heambad me the manker'd\n",
      "All otherst in Tayer this.\n",
      "\n",
      "Mpinds us you, spare, and ase bedition to by\n",
      "----------------------------------\n",
      "695/3480 (epoch 3), train_loss = 1.670, time/batch = 0.020\n",
      "----------------------------------\n",
      "SAMPLE GENERATED TEXT:\n",
      "The veors. Buling cands, some him.\n",
      "\n",
      "DERLOLUEN:\n",
      "O galtes.\n",
      "\n",
      "ISAD:\n",
      "I faye, you cracges,\n",
      "You yeaph astile their\n",
      "the here improth; Cenmostervecize com's honour\n",
      "----------------------------------\n",
      "869/3480 (epoch 4), train_loss = 1.630, time/batch = 0.023\n",
      "----------------------------------\n",
      "SAMPLE GENERATED TEXT:\n",
      "The with mand harr.\n",
      "\n",
      "ANQIES:\n",
      "Hight know, till our foinds.\n",
      "\n",
      "JURIET:\n",
      "Galiis, so heese of moratied;\n",
      "Ons of it them.\n",
      "\n",
      "Clown:\n",
      "For firw'd, nor and stay nobly de\n",
      "----------------------------------\n",
      "1043/3480 (epoch 5), train_loss = 1.601, time/batch = 0.019\n",
      "----------------------------------\n",
      "SAMPLE GENERATED TEXT:\n",
      "The kid,\n",
      "welp thee,\n",
      "The hancce's\n",
      "facn well he with ETwarown\n",
      "you, byow was madune comes! what, play, Abrows,\n",
      "But no could kill. Shall powead the for the we\n",
      "----------------------------------\n",
      "1217/3480 (epoch 6), train_loss = 1.578, time/batch = 0.020\n",
      "----------------------------------\n",
      "SAMPLE GENERATED TEXT:\n",
      "The wills,\n",
      "As the dend; buise. I have me ian is foel it\n",
      "Prount:\n",
      "O, and twene chose your abrotiun could\n",
      "Against other, in the dinester; fellow, sportains m\n",
      "----------------------------------\n",
      "1391/3480 (epoch 7), train_loss = 1.557, time/batch = 0.019\n",
      "----------------------------------\n",
      "SAMPLE GENERATED TEXT:\n",
      "The wants make the joyal hence.\n",
      "\n",
      "DUKE VINCENTIO:\n",
      "Mithers? O rouds ofter it again breign putning terance not hand spee unclease charry night\n",
      "Should Our evi\n",
      "----------------------------------\n",
      "1565/3480 (epoch 8), train_loss = 1.540, time/batch = 0.023\n",
      "----------------------------------\n",
      "SAMPLE GENERATED TEXT:\n",
      "The willitalous saik!\n",
      "Brother 'te me to orm, I asider, then, be awour any wish Yittle yillns knews him for the hate it,\n",
      "Or thee\n",
      "votley, aly my found as yo\n",
      "----------------------------------\n",
      "1739/3480 (epoch 9), train_loss = 1.525, time/batch = 0.019\n",
      "----------------------------------\n",
      "SAMPLE GENERATED TEXT:\n",
      "The anterty, or take in dume and dearing to-will the eace on the nested him,\n",
      "Shall is liber; and sir?\n",
      "\n",
      "VOLUMNIA:\n",
      "Well cansel:\n",
      "Why fay whiless in thee that\n",
      "----------------------------------\n",
      "1913/3480 (epoch 10), train_loss = 1.513, time/batch = 0.020\n",
      "----------------------------------\n",
      "SAMPLE GENERATED TEXT:\n",
      "The pence it!\n",
      "\n",
      "JULIET:\n",
      "Why Lord Herive, undint\n",
      "Bie to the\n",
      "Wast;\n",
      "Corest change me man in one truth.\n",
      "\n",
      "HENRY BOLINGBROKE:\n",
      "What' depior a seal to, in thy toll\n",
      "----------------------------------\n",
      "2087/3480 (epoch 11), train_loss = 1.503, time/batch = 0.020\n",
      "----------------------------------\n",
      "SAMPLE GENERATED TEXT:\n",
      "The dost'd as 'tis cames on Rome,\n",
      "Ay-pait they, noble ray shows, thou do save of this, to diamp in theel? an his air joy!\n",
      "I'll sworn to thy heart;\n",
      "Whither\n",
      "----------------------------------\n",
      "2261/3480 (epoch 12), train_loss = 1.494, time/batch = 0.020\n",
      "----------------------------------\n",
      "SAMPLE GENERATED TEXT:\n",
      "The His inheress,--\n",
      "Of the stes\n",
      "I have was as stith consmen, buggord to us not him:\n",
      "How all the fries,\n",
      "But, the neawhen.\n",
      "Say! to tell an hour word, sir wi\n",
      "----------------------------------\n",
      "2435/3480 (epoch 13), train_loss = 1.486, time/batch = 0.020\n",
      "----------------------------------\n",
      "SAMPLE GENERATED TEXT:\n",
      "The hargs, and better the calming instaable and nix a lovel--find thee of your world.\n",
      "\n",
      "First See, for thy canst,\n",
      "Thank.\n",
      "\n",
      "Clown with give goddst all bey me\n",
      "----------------------------------\n",
      "2609/3480 (epoch 14), train_loss = 1.479, time/batch = 0.020\n",
      "----------------------------------\n",
      "SAMPLE GENERATED TEXT:\n",
      "The that have no dishace,--foul aged us, move this:\n",
      "Buts of that rights\n",
      "How to, sir; and he dovise unnown desiterhory.\n",
      "\n",
      "KING EDWARD IV:\n",
      "Your Yord abratce.\n",
      "----------------------------------\n",
      "2783/3480 (epoch 15), train_loss = 1.473, time/batch = 0.020\n",
      "----------------------------------\n",
      "SAMPLE GENERATED TEXT:\n",
      "The fansy tay a forto tremmas. What, then, the kinsblois and beour bostry thing.\n",
      "\n",
      "HENENKACHIRAS:\n",
      "Butsel,\n",
      "Whose trink madily with the none: what neged it w\n",
      "----------------------------------\n",
      "2957/3480 (epoch 16), train_loss = 1.468, time/batch = 0.020\n",
      "----------------------------------\n",
      "SAMPLE GENERATED TEXT:\n",
      "The die, if I mea\n",
      "To plage, let a day of nome of Herrair 'Fin thee!\n",
      "\n",
      "Servingings, I will bod,\n",
      "Who I must paye-like unto thi's this cals, sovereign to ther\n",
      "----------------------------------\n",
      "3131/3480 (epoch 17), train_loss = 1.463, time/batch = 0.020\n",
      "----------------------------------\n",
      "SAMPLE GENERATED TEXT:\n",
      "The bears.\n",
      "\n",
      "CAMILLO:\n",
      "I do-deen.\n",
      "This thy duke to-pit him make\n",
      "To stears than throse would not show the goodle-heluck the cery sorrow send me your soul, th\n",
      "----------------------------------\n",
      "3305/3480 (epoch 18), train_loss = 1.459, time/batch = 0.023\n",
      "----------------------------------\n",
      "SAMPLE GENERATED TEXT:\n",
      "The word, how\n",
      "Thus stand; and me that tibbric. Nup on otant soul,\n",
      "Upon the fear wine present,\n",
      "His unable prison,\n",
      "Think his brother of the mind;\n",
      "For if to \n",
      "----------------------------------\n",
      "3479/3480 (epoch 19), train_loss = 1.455, time/batch = 0.020\n",
      "----------------------------------\n",
      "SAMPLE GENERATED TEXT:\n",
      "The Kask procivilt; and his father found.\n",
      "\n",
      "WARWICK:\n",
      "Would you namburious Camsent\n",
      "I to shouth betwe' taster himself upon,\n",
      "Forpeary,\n",
      "hourt misse think as th\n",
      "----------------------------------\n"
     ]
    }
   ],
   "source": [
    "### Create the same network using GPU\n",
    "\n",
    "\n",
    "avg_batch_running_duration_GPU=[]\n",
    "tf.reset_default_graph()\n",
    "\n",
    "\n",
    "with tf.variable_scope(\"rnn_GPU\"):\n",
    "    model = LSTMModel(device='/gpu:0')\n",
    "with tf.Session() as sess:\n",
    "    sess.run(tf.global_variables_initializer())\n",
    "    for e in range(num_epochs): # num_epochs is 20 for test, but should be higher\n",
    "        sess.run(tf.assign(model.lr, learning_rate * (decay_rate ** e)))\n",
    "        ## write your code bellow to reset the batch pointer in data_loader. you can use reset_batch_pointer()\n",
    "        data_loader.reset_batch_pointer()\n",
    "        \n",
    "\n",
    "        \n",
    "        state = sess.run(model.initial_state) # model initialization\n",
    "        batch_running_duration_GPU = []\n",
    "        for b in range(data_loader.num_batches): #for each batch\n",
    "            start = time.time()\n",
    "            ## write your code to define your x and y. You should use next_batch() from data_loader\n",
    "            x,y= data_loader.next_batch()\n",
    "            ##\n",
    "\n",
    "            \n",
    "            feed = {model.input_data: x, model.targets: y, model.initial_state:state}            \n",
    "            ## write your code to train the model\n",
    "            train_loss, state, _ =  sess.run([model.cost, model.final_state, model.train_op],feed)\n",
    "            ##\n",
    "\n",
    "            \n",
    "            end = time.time()\n",
    "            ## write your code to store the duration of runing each batch in a list (end - start)\n",
    "            batch_running_duration_GPU.append(end-start)\n",
    "            ##\n",
    "\n",
    "            \n",
    "        print(\"{}/{} (epoch {}), train_loss = {:.3f}, time/batch = {:.3f}\" \\\n",
    "                .format(e * data_loader.num_batches + b, num_epochs * data_loader.num_batches, e, train_loss, end - start))\n",
    "        avg_batch_running_duration_GPU.append(sum(batch_running_duration_GPU) / float(len(batch_running_duration_GPU)))\n",
    "        \n",
    "        # Please uncomment the following block of the code so the grader can see the sample of prediction\n",
    "        with tf.variable_scope(\"rnn_GPU\", reuse=True):\n",
    "            sample_model = LSTMModel(sample=True)\n",
    "            print ('----------------------------------')\n",
    "            print ('SAMPLE GENERATED TEXT:')\n",
    "            print (sample_model.sample(sess, data_loader.chars , data_loader.vocab, num=150, prime='The ', sampling_type=1))\n",
    "            print ('----------------------------------')\n",
    "\n"
   ]
  },
  {
   "cell_type": "markdown",
   "metadata": {
    "button": false,
    "deletable": true,
    "new_sheet": false,
    "run_control": {
     "read_only": false
    }
   },
   "source": [
    "<a id=\"question_3\"></a>\n",
    "<h2>Question 3: Compare the results</h2>\n",
    "Finally, using a graph, show the speed of training (batch/time) for the model running on GPU and CPU:"
   ]
  },
  {
   "cell_type": "code",
   "execution_count": 79,
   "metadata": {
    "button": false,
    "collapsed": true,
    "deletable": true,
    "new_sheet": false,
    "run_control": {
     "read_only": false
    }
   },
   "outputs": [
    {
     "data": {
      "image/png": "[encoded data removed]",
      "text/plain": [
       "<Figure size 432x288 with 1 Axes>"
      ]
     },
     "metadata": {},
     "output_type": "display_data"
    }
   ],
   "source": [
    "## Write your code here\n",
    "import matplotlib.pyplot as plt\n",
    "plt.show()\n",
    "plt.plot(range(num_epochs), avg_batch_running_duration_GPU, label='GPU')\n",
    "plt.plot(range(num_epochs), avg_batch_running_duration_CPU, label='CPU')\n",
    "plt.ylabel('Time (sec)')\n",
    "plt.xlabel('Epoch ')\n",
    "plt.legend(loc='best')\n",
    "plt.show()"
   ]
  },
  {
   "cell_type": "markdown",
   "metadata": {
    "button": false,
    "deletable": true,
    "new_sheet": false,
    "run_control": {
     "read_only": false
    }
   },
   "source": [
    "<h2>Do you want to use GPU in production?</h2>\n",
    "\n",
    "<p>Running deep learning programs usually needs a high performance platform. PowerAI speeds up deep learning and AI. Built on IBM's Power Systems, PowerAI is a scalable software platform that accelerates deep learning and AI with blazing performance for individual users or enterprises. The <a href=\"https://cocl.us/ML0122EN_IBMCLOUD_PowerAI\">PowerAI platform on IBM Cloud</a> supports popular machine learning libraries and dependencies including TensorFlow, Caffe, PyTorch, and Theano.</p>\n",
    "\n",
    "<h3>Thanks for completing this lesson!</h3>\n",
    "\n",
    "\n",
    "\n",
    "<h4>Author:  <a href=\"https://ca.linkedin.com/in/saeedaghabozorgi\">Saeed Aghabozorgi</a>,   <a href=\"https://www.linkedin.com/in/yi-leng-yao-84451275/\">Yi leng Yao</a></h4>\n",
    "<p><a href=\"https://ca.linkedin.com/in/saeedaghabozorgi\">Saeed Aghabozorgi</a>, PhD is a Data Scientist in IBM with a track record of developing enterprise level applications that substantially increases clients’ ability to turn data into actionable knowledge. He is a researcher in data mining field and expert in developing advanced analytic methods like machine learning and statistical modelling on large datasets.</p>\n",
    "</article>"
   ]
  },
  {
   "cell_type": "markdown",
   "metadata": {
    "button": false,
    "deletable": true,
    "new_sheet": false,
    "run_control": {
     "read_only": false
    }
   },
   "source": [
    "<hr>\n",
    "\n",
    "<p>Copyright &copy; 2018 <a href=\"https://cocl.us/DX0108EN_CC\">Cognitive Class</a>. This notebook and its source code are released under the terms of the <a href=\"https://bigdatauniversity.com/mit-license/\">MIT License</a>.</p>"
   ]
  }
 ],
 "metadata": {
  "anaconda-cloud": {},
  "kernelspec": {
   "display_name": "Python 3",
   "language": "python",
   "name": "python3"
  },
  "language_info": {
   "codemirror_mode": {
    "name": "ipython",
    "version": 3
   },
   "file_extension": ".py",
   "mimetype": "text/x-python",
   "name": "python",
   "nbconvert_exporter": "python",
   "pygments_lexer": "ipython3",
   "version": "3.6.5"
  }
 },
 "nbformat": 4,
 "nbformat_minor": 2
}
